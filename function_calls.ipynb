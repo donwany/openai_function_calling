{
 "cells": [
  {
   "attachments": {},
   "cell_type": "markdown",
   "metadata": {},
   "source": [
    "### **FUNCTION CALLING**"
   ]
  },
  {
   "attachments": {},
   "cell_type": "markdown",
   "metadata": {},
   "source": [
    "- In API call, you can describe functions to these models: `gpt-3.5-turbo-0613` and `gpt-4-0613`.\n",
    "  \n",
    "- The model `intelligently` chooses to output a  `JSON` object containing arguments to call those functions.\n",
    "  \n",
    "- The model rather generates the `JSON` that you can used to call the function in your code."
   ]
  },
  {
   "attachments": {},
   "cell_type": "markdown",
   "metadata": {},
   "source": [
    "### **APPLICATIONS OF FUNCTION CALLING**"
   ]
  },
  {
   "attachments": {},
   "cell_type": "markdown",
   "metadata": {},
   "source": [
    "- Create chatbots that answer questions by calling external API's (like chatgpt plugin).\n",
    "    * email godataprof to check what days he posts new videos on youtube: `send_email(to: str, body: str)`\n",
    "  \n",
    "    * what is the current weather like in Dallas? : `get_current_weather(location: str, unit: 'celsius' | 'fahrenheit')`\n",
    "\n",
    "\n",
    "- Convert natural language into API calls.\n",
    "    * convert \"Who are my top customers?\" to `get_customers_by_revenue(start_date: str, end_date: str, limit: int)` and call your internal API.\n",
    "  \n",
    "- Extract structured data from text.\n",
    "  \n",
    "    * define a function called `extract_data(name: str, birthday: str)`, or sql_query(query: str)"
   ]
  },
  {
   "cell_type": "code",
   "execution_count": null,
   "metadata": {},
   "outputs": [],
   "source": []
  },
  {
   "cell_type": "code",
   "execution_count": 1,
   "metadata": {},
   "outputs": [],
   "source": [
    "import openai\n",
    "import os\n",
    "import textwrap\n",
    "import json"
   ]
  },
  {
   "cell_type": "code",
   "execution_count": 2,
   "metadata": {},
   "outputs": [],
   "source": [
    "openai.api_key = \"sk-...\""
   ]
  },
  {
   "cell_type": "code",
   "execution_count": 3,
   "metadata": {},
   "outputs": [
    {
     "name": "stdout",
     "output_type": "stream",
     "text": [
      "I cannot provide real-time information. Please check a reliable\n",
      "weather website or app for the current weather in Dallas.\n"
     ]
    }
   ],
   "source": [
    "completion = openai.ChatCompletion.create(\n",
    "    model=\"gpt-4\",\n",
    "    messages=[{\"role\": \"user\", \"content\": \"What's the current weather in Dallas?\"}],\n",
    ")\n",
    "\n",
    "reply_content = completion.choices[0].message.content\n",
    "\n",
    "print(textwrap.fill(reply_content))\n"
   ]
  },
  {
   "cell_type": "code",
   "execution_count": 4,
   "metadata": {},
   "outputs": [
    {
     "name": "stdout",
     "output_type": "stream",
     "text": [
      "I'm sorry, but as an AI language model, I cannot access email services\n",
      "or send emails on your behalf.\n"
     ]
    }
   ],
   "source": [
    "completion = openai.ChatCompletion.create(\n",
    "    model=\"gpt-4\",\n",
    "    messages=[{\"role\": \"user\", \"content\": \"Send email to godataprof using theodondre@gmail.com\"}],\n",
    ")\n",
    "\n",
    "reply_content = completion.choices[0].message.content\n",
    "\n",
    "print(textwrap.fill(reply_content))"
   ]
  },
  {
   "cell_type": "code",
   "execution_count": 43,
   "metadata": {},
   "outputs": [],
   "source": [
    "def get_current_weather(location, unit=\"fahrenheit\"):\n",
    "    \"\"\"Get the current weather in a given location\"\"\"\n",
    "    weather_info = {\n",
    "        \"location\": location,\n",
    "        \"temperature\": \"72\",\n",
    "        \"unit\": unit,\n",
    "        \"forecast\": [\"sunny\", \"windy\"],\n",
    "    }\n",
    "    return json.dumps(weather_info)\n",
    "\n",
    "\n",
    "\n",
    "def send_email(to: str, subject: str,  body: str):\n",
    "    message = {\n",
    "        \"from\": \"theod@gmail.com\",\n",
    "        \"to\": to,\n",
    "        \"body\": body,\n",
    "        \"subject\": subject\n",
    "    }\n",
    "    return json.dumps(message)"
   ]
  },
  {
   "cell_type": "code",
   "execution_count": 16,
   "metadata": {},
   "outputs": [],
   "source": [
    "GMAIL_ADDRESS=\"@gmail.com\"\n",
    "GMAIL_PASSWORD=\"...\"\n",
    "RECEIVER_EMAIL=\"@gmail.com\"\n",
    "SMTP=\"smtp.gmail.com\"\n",
    "PORT=587"
   ]
  },
  {
   "cell_type": "code",
   "execution_count": 44,
   "metadata": {},
   "outputs": [],
   "source": [
    "from email.message import EmailMessage\n",
    "import requests\n",
    "import smtplib\n",
    "\n",
    "\n",
    "def get_weather(api_key, city):\n",
    "    url = \"http://api.openweathermap.org/data/2.5/weather\"\n",
    "    params = {\n",
    "        \"q\": city,\n",
    "        \"appid\": api_key,\n",
    "        \"units\": \"imperial\"\n",
    "    }\n",
    "    \n",
    "    try:\n",
    "        response = requests.get(url, params=params)\n",
    "        response.raise_for_status()  # Raise an exception for non-2xx responses\n",
    "        data = response.json()\n",
    "        \n",
    "        # Extract relevant weather information\n",
    "        temperature = data[\"main\"][\"temp\"]\n",
    "        weather_description = data[\"weather\"][0][\"description\"]\n",
    "        humidity = data[\"main\"][\"humidity\"]\n",
    "        \n",
    "        # Return the weather data\n",
    "        return {\n",
    "            \"temperature\": temperature,\n",
    "            \"description\": weather_description,\n",
    "            \"humidity\": humidity\n",
    "        }\n",
    "    except requests.exceptions.RequestException as e:\n",
    "        print(\"Error occurred during API request:\", e)\n",
    "        return None\n",
    "\n",
    "\n",
    "def email_sender(subject, body):\n",
    "    \"\"\"send email\"\"\"\n",
    "    try:\n",
    "        sender_email = GMAIL_ADDRESS\n",
    "        sender_password = GMAIL_PASSWORD\n",
    "        receiver_email = RECEIVER_EMAIL\n",
    "\n",
    "        msg = EmailMessage()\n",
    "        msg.set_content(body)\n",
    "        msg[\"Subject\"] = subject\n",
    "        msg[\"From\"] = sender_email\n",
    "        msg[\"To\"] = receiver_email\n",
    "\n",
    "        session = smtplib.SMTP(SMTP, PORT)\n",
    "        session.starttls()\n",
    "        session.login(sender_email, sender_password)\n",
    "        session.send_message(msg, sender_email, receiver_email)\n",
    "        session.quit()\n",
    "        print(\"Mail Sent!\")\n",
    "    except Exception as e:\n",
    "        print(f'Error sending email: {e}')\n",
    "\n"
   ]
  },
  {
   "cell_type": "code",
   "execution_count": 20,
   "metadata": {},
   "outputs": [],
   "source": [
    "completion = openai.ChatCompletion.create(\n",
    "    model=\"gpt-4-0613\",\n",
    "    messages=[{\"role\": \"user\", \"content\": \"Send an email to godataprof to check when he's going to upload new video on youtube\"}],\n",
    "    functions=[\n",
    "    {\n",
    "        \"name\": \"email_sender\",\n",
    "        \"description\": \"send email to a youtuber\",\n",
    "        \"parameters\": {\n",
    "            \"type\": \"object\",\n",
    "            \"properties\": {\n",
    "                \"to\": {\n",
    "                    \"type\": \"string\",\n",
    "                    \"description\": \"email address of receiver, e.g. godataprof@gmail.com\",\n",
    "                    },\n",
    "                \"subject\": {\n",
    "                    \"type\": \"string\", \n",
    "                    \"description\": \"subject of the email, e.g. Hello! GodataProf\"\n",
    "                },\n",
    "                \"body\": {\n",
    "                    \"type\": \"string\", \n",
    "                    \"description\": \"content of the email, e.g. Checking to see what times you upload new youtube videos\"\n",
    "                },\n",
    "            },\n",
    "            \"required\": [\"to\", \"subject\", \"body\"],\n",
    "        },\n",
    "    }\n",
    "    ],\n",
    "function_call=\"auto\",\n",
    ")"
   ]
  },
  {
   "cell_type": "code",
   "execution_count": 24,
   "metadata": {},
   "outputs": [
    {
     "data": {
      "text/plain": [
       "<OpenAIObject at 0x7f804828f680> JSON: {\n",
       "  \"content\": null,\n",
       "  \"function_call\": {\n",
       "    \"arguments\": \"{\\n  \\\"to\\\": \\\"godataprof@gmail.com\\\",\\n  \\\"subject\\\": \\\"Upload Schedule Inquiry\\\",\\n  \\\"body\\\": \\\"Hello godataprof,\\n\\n  I hope you're doing well.\\n\\n  I'm a big fan of your content on Youtube, particularly your work with Data Science. If possible, could you kindly let me know when you're planning to upload a new video again? \\n\\n  Looking forward to your upcoming content!\\n\\n  Best regards\\\"\\n}\",\n",
       "    \"name\": \"email_sender\"\n",
       "  },\n",
       "  \"role\": \"assistant\"\n",
       "}"
      ]
     },
     "execution_count": 24,
     "metadata": {},
     "output_type": "execute_result"
    }
   ],
   "source": [
    "reply_content = completion.choices[0].message\n",
    "reply_content"
   ]
  },
  {
   "cell_type": "code",
   "execution_count": 36,
   "metadata": {},
   "outputs": [
    {
     "name": "stdout",
     "output_type": "stream",
     "text": [
      "{'to': 'godataprof@gmail.com', 'subject': 'Upload Schedule Inquiry', 'body': \"Hello godataprof,  I hope you're doing well.  I'm a big fan of your content on Youtube, particularly your work with Data Science. If possible, could you kindly let me know when you're planning to upload a new video again?   Looking forward to your upcoming content!  Best regards\"}\n"
     ]
    }
   ],
   "source": [
    "funcs = reply_content['function_call']['arguments']\n",
    "\n",
    "funcs = json.loads(funcs.replace(\"\\n\", \"\"))\n",
    "\n",
    "print(funcs)"
   ]
  },
  {
   "cell_type": "code",
   "execution_count": 37,
   "metadata": {},
   "outputs": [
    {
     "data": {
      "text/plain": [
       "dict"
      ]
     },
     "execution_count": 37,
     "metadata": {},
     "output_type": "execute_result"
    }
   ],
   "source": [
    "type(funcs)"
   ]
  },
  {
   "cell_type": "code",
   "execution_count": 38,
   "metadata": {},
   "outputs": [
    {
     "name": "stdout",
     "output_type": "stream",
     "text": [
      "Mail Sent!\n"
     ]
    }
   ],
   "source": [
    "email_sender(subject=funcs['subject'], body=funcs['body'])"
   ]
  },
  {
   "cell_type": "code",
   "execution_count": null,
   "metadata": {},
   "outputs": [],
   "source": []
  },
  {
   "cell_type": "code",
   "execution_count": 57,
   "metadata": {},
   "outputs": [],
   "source": [
    "location = \"Accra\"\n",
    "\n",
    "completion = openai.ChatCompletion.create(\n",
    "    model=\"gpt-4-0613\",\n",
    "    messages=[{\"role\": \"user\", \"content\": f\"What's the weather like in {location}?\"}],\n",
    "    functions=[\n",
    "    {\n",
    "        \"name\": \"get_current_weather\",\n",
    "        \"description\": \"Get the current weather in a given location\",\n",
    "        \"parameters\": {\n",
    "            \"type\": \"object\",\n",
    "            \"properties\": {\n",
    "                \"location\": {\n",
    "                    \"type\": \"string\",\n",
    "                    \"description\": \"The city and state, e.g. San Francisco, CA\",\n",
    "                    },\n",
    "                \"unit\": {\n",
    "                    \"type\": \"string\", \n",
    "                    \"enum\": [\"celsius\", \"fahrenheit\"]\n",
    "                },\n",
    "            },\n",
    "            \"required\": [\"location\"],\n",
    "        },\n",
    "    }\n",
    "    ],\n",
    "function_call=\"auto\",\n",
    ")"
   ]
  },
  {
   "cell_type": "code",
   "execution_count": 58,
   "metadata": {},
   "outputs": [
    {
     "data": {
      "text/plain": [
       "<OpenAIObject at 0x7f80481d62c0> JSON: {\n",
       "  \"content\": null,\n",
       "  \"function_call\": {\n",
       "    \"arguments\": \"{\\n  \\\"location\\\": \\\"Accra\\\"\\n}\",\n",
       "    \"name\": \"get_current_weather\"\n",
       "  },\n",
       "  \"role\": \"assistant\"\n",
       "}"
      ]
     },
     "execution_count": 58,
     "metadata": {},
     "output_type": "execute_result"
    }
   ],
   "source": [
    "reply_content = completion.choices[0].message\n",
    "reply_content"
   ]
  },
  {
   "cell_type": "code",
   "execution_count": 59,
   "metadata": {},
   "outputs": [
    {
     "name": "stdout",
     "output_type": "stream",
     "text": [
      "{'location': 'Accra'}\n"
     ]
    }
   ],
   "source": [
    "reply_content = completion.choices[0].message\n",
    "\n",
    "funcs = reply_content.to_dict()['function_call']['arguments']\n",
    "\n",
    "funcs = json.loads(funcs)\n",
    "\n",
    "print(funcs)"
   ]
  },
  {
   "cell_type": "code",
   "execution_count": 60,
   "metadata": {},
   "outputs": [
    {
     "data": {
      "text/plain": [
       "<OpenAIObject chat.completion id=chatcmpl-7RxSbZ592LlIpfb6ejcXByaBApWmM at 0x7f80481b6950> JSON: {\n",
       "  \"choices\": [\n",
       "    {\n",
       "      \"finish_reason\": \"stop\",\n",
       "      \"index\": 0,\n",
       "      \"message\": {\n",
       "        \"content\": \"The weather in Accra is currently 72\\u00b0F. It is sunny and windy.\",\n",
       "        \"role\": \"assistant\"\n",
       "      }\n",
       "    }\n",
       "  ],\n",
       "  \"created\": 1686897777,\n",
       "  \"id\": \"chatcmpl-7RxSbZ592LlIpfb6ejcXByaBApWmM\",\n",
       "  \"model\": \"gpt-3.5-turbo-0613\",\n",
       "  \"object\": \"chat.completion\",\n",
       "  \"usage\": {\n",
       "    \"completion_tokens\": 17,\n",
       "    \"prompt_tokens\": 77,\n",
       "    \"total_tokens\": 94\n",
       "  }\n",
       "}"
      ]
     },
     "execution_count": 60,
     "metadata": {},
     "output_type": "execute_result"
    }
   ],
   "source": [
    "# Step 2, check if the model wants to call a function\n",
    "if reply_content.get(\"function_call\"):\n",
    "    function_name = reply_content[\"function_call\"][\"name\"]\n",
    "\n",
    "    # Step 3, call the function\n",
    "    # Note: the JSON response from the model may not be valid JSON\n",
    "    function_response = get_current_weather(\n",
    "            location=reply_content.get(\"location\"),\n",
    "            unit=reply_content.get(\"unit\"),\n",
    "    )\n",
    "\n",
    "    # Step 4, send model the info on the function call and function response\n",
    "    second_response = openai.ChatCompletion.create(\n",
    "            model=\"gpt-3.5-turbo-0613\",\n",
    "            messages=[\n",
    "                {\"role\": \"user\", \"content\": f\"What is the weather like in {location}?\"},\n",
    "                reply_content,\n",
    "                {\n",
    "                    \"role\": \"function\",\n",
    "                    \"name\": function_name,\n",
    "                    \"content\": function_response,\n",
    "                },\n",
    "            ],\n",
    "        )\n",
    "\n",
    "second_response"
   ]
  },
  {
   "cell_type": "code",
   "execution_count": 61,
   "metadata": {},
   "outputs": [
    {
     "name": "stdout",
     "output_type": "stream",
     "text": [
      "Weather in Accra:\n",
      "Temperature: 77.14°F\n",
      "Description: overcast clouds\n",
      "Humidity: 79%\n"
     ]
    }
   ],
   "source": [
    "api_key = \"...\"\n",
    "city = funcs['location'].split(\",\")[0]\n",
    "\n",
    "weather_data = get_weather(api_key, city)\n",
    "if weather_data is not None:\n",
    "    temperature = weather_data[\"temperature\"]\n",
    "    description = weather_data[\"description\"]\n",
    "    humidity = weather_data[\"humidity\"]\n",
    "    \n",
    "    print(f\"Weather in {funcs['location']}:\")\n",
    "    print(f\"Temperature: {temperature}°F\")\n",
    "    print(f\"Description: {description}\")\n",
    "    print(f\"Humidity: {humidity}%\")\n"
   ]
  },
  {
   "cell_type": "code",
   "execution_count": null,
   "metadata": {},
   "outputs": [],
   "source": []
  },
  {
   "cell_type": "code",
   "execution_count": null,
   "metadata": {},
   "outputs": [],
   "source": []
  },
  {
   "cell_type": "code",
   "execution_count": null,
   "metadata": {},
   "outputs": [],
   "source": []
  }
 ],
 "metadata": {
  "kernelspec": {
   "display_name": "Python 3",
   "language": "python",
   "name": "python3"
  },
  "language_info": {
   "codemirror_mode": {
    "name": "ipython",
    "version": 3
   },
   "file_extension": ".py",
   "mimetype": "text/x-python",
   "name": "python",
   "nbconvert_exporter": "python",
   "pygments_lexer": "ipython3",
   "version": "3.8.3"
  },
  "orig_nbformat": 4
 },
 "nbformat": 4,
 "nbformat_minor": 2
}
